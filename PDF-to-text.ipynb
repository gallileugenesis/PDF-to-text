{
 "cells": [
  {
   "cell_type": "markdown",
   "id": "3e6379f5",
   "metadata": {},
   "source": [
    "# Como Converter um arquivo PDF da Web em Texto\n",
    "\n",
    "A capacidade de converter o conteúdo de um arquivo PDF da web em texto é uma habilidade fundamental para diversas aplicações, incluindo análise de texto, extração de informações e processamento de linguagem natural. Neste tutorial, mostraremos como realizar essa tarefa de forma eficiente usando Python."
   ]
  },
  {
   "cell_type": "markdown",
   "id": "c8df7976",
   "metadata": {},
   "source": [
    "## Passo 1: Baixar o Arquivo PDF da Web\n",
    "O primeiro passo é baixar o arquivo PDF da web. Podemos usar a biblioteca requests para realizar o download do arquivo a partir de uma URL:"
   ]
  },
  {
   "cell_type": "code",
   "execution_count": 1,
   "id": "59bfeee3",
   "metadata": {},
   "outputs": [],
   "source": [
    "import requests\n",
    "\n",
    "# url do arquivo\n",
    "pdf_url = \"https://www.ic.unicamp.br/~stolfi/misc/2012-02-13-domine-casmurrus.pdf\"\n",
    "\n",
    "# Solicitação HTTP para baixar o PDF a partir do URL\n",
    "response = requests.get(pdf_url)\n",
    "\n",
    "# Abre um arquivo local chamado \"Dom-Casmurro.pdf\" e escreve o conteúdo do PDF nesse arquivo\n",
    "with open(\"Dom-Casmurro.pdf\", \"wb\") as pdf_file:\n",
    "   pdf_file.write(response.content)"
   ]
  },
  {
   "cell_type": "markdown",
   "id": "c922c1fc",
   "metadata": {},
   "source": [
    "## Passo 2: Converter o PDF em Texto\n",
    "Para converter o arquivo PDF em texto utilizável, usamos a biblioteca PyPDF2. A seguir, o código que realiza essa conversão:"
   ]
  },
  {
   "cell_type": "code",
   "execution_count": 2,
   "id": "37bc7289",
   "metadata": {},
   "outputs": [],
   "source": [
    "import PyPDF2\n",
    "\n",
    "# Caminho o arquivo pdf\n",
    "pdf_path = \"Dom-Casmurro.pdf\"\n",
    "\n",
    "pdf_text = \"\"\n",
    "with open(pdf_path, \"rb\") as pdf_file:\n",
    "   # Usamos PyPDF2 para ler o PDF\n",
    "   pdf_reader = PyPDF2.PdfReader(pdf_file)\n",
    "\n",
    "   # Iteramos pelas páginas do PDF e extraímos o texto\n",
    "   for page in pdf_reader.pages:\n",
    "       pdf_text += page.extract_text()"
   ]
  },
  {
   "cell_type": "markdown",
   "id": "5aa990f8",
   "metadata": {},
   "source": [
    "O conteúdo do pdf já está na variável pdf_text"
   ]
  },
  {
   "cell_type": "code",
   "execution_count": 3,
   "id": "d9a6cd58",
   "metadata": {},
   "outputs": [
    {
     "data": {
      "text/plain": [
       "'Dom Casmurro\\nMachado de Assis\\n1899\\nVers˜ao Preliminar\\n2012-02-13\\nI\\nDo titulo.\\nUma noite destas, vindo da cidade para o Engenho\\nNovo, encontrei no trem da Central um rapaz aqui do\\nbairro, que eu conhe¸ co de vista e de chap´ eo. Comprimentou-\\nme, sentou-se ao p´ e de mim, falou da lua e dos ministros,\\ne acabou recitando-me versos. A viagem era curta, e\\nos versos p´ ode ser que n˜ ao fossem inteiramente maus.\\nSuccedeu, por´ em, que como eu estava can¸ cado, fechei os\\nolhos tres ou quatro vezes; tanto bastou para que elle\\ninterrompesse a leitura e mettesse os versos no bolso.\\n— Continue, disse eu accordando.\\n— J´ a acabei, murmurou elle.\\n— S˜ ao muito bonitos.\\nVi-lhe fazer um gesto para tiral-os outra vez do bolso,\\nmas n˜ ao passou do gesto; estava amuado. No dia seguinte\\nentrou a dizer de mim nomes feios, e acabou alcunhando-\\nmeDom Casmurro . Os visinhos, que n˜ ao gostam dos\\nmeus h´ abitos reclusos e calados, deram curso ´ a alcu-\\nnha, que aﬁnal pegou. Nem por isso me zanguei. Con-\\ntei '"
      ]
     },
     "execution_count": 3,
     "metadata": {},
     "output_type": "execute_result"
    }
   ],
   "source": [
    "# exibir os primeiros 1000 caracteres do texto \n",
    "pdf_text[0:1000]"
   ]
  },
  {
   "cell_type": "markdown",
   "id": "df2e68b0",
   "metadata": {},
   "source": [
    "**Obs:** O caractere '\\n' representa uma quebra de linha. Ele é chamado de caractere de escape de nova linha ou simplesmente um caractere de nova linha.\n",
    "\n",
    "\n"
   ]
  },
  {
   "cell_type": "markdown",
   "id": "cc701778",
   "metadata": {},
   "source": [
    "Adicionalmente, você pode querer salvar o texto em formato *.txt*."
   ]
  },
  {
   "cell_type": "code",
   "execution_count": 4,
   "id": "7234dc43",
   "metadata": {},
   "outputs": [],
   "source": [
    "# Abrimos um arquivo de texto chamado \"Dom-Casmurro.txt\" no modo de escrita ('w') e escrevemos o texto extraído nele\n",
    "with open(\"Dom-Casmurro.txt\", \"w\", encoding=\"utf-8\") as txt_file:\n",
    "   txt_file.write(pdf_text)"
   ]
  },
  {
   "cell_type": "markdown",
   "id": "fb09cf4a",
   "metadata": {},
   "source": [
    "Para ler o conteúdo do arquivo *.txt* basta executar o código a seguir."
   ]
  },
  {
   "cell_type": "code",
   "execution_count": 5,
   "id": "d4e4992c",
   "metadata": {},
   "outputs": [],
   "source": [
    "with open(\"Dom-Casmurro.txt\", \"r\", encoding=\"utf-8\") as txt_file:\n",
    "   # Lê o texto do arquivo de texto que foi convertido a partir do PDF\n",
    "   pdf_text = txt_file.read()"
   ]
  },
  {
   "cell_type": "markdown",
   "id": "7945fb1e",
   "metadata": {},
   "source": [
    "Agora você tem o conteúdo do PDF convertido em texto, pronto para análises adicionais ou qualquer outra aplicação de processamento de texto que desejar, usando, por exemplo, bibliotecas como o NLTK."
   ]
  },
  {
   "cell_type": "code",
   "execution_count": 1,
   "id": "f470bfd9",
   "metadata": {},
   "outputs": [
    {
     "name": "stdout",
     "output_type": "stream",
     "text": [
      "Note: you may need to restart the kernel to use updated packages.\n"
     ]
    }
   ],
   "source": [
    "pip freeze > requirements.txt"
   ]
  }
 ],
 "metadata": {
  "kernelspec": {
   "display_name": "Python 3 (ipykernel)",
   "language": "python",
   "name": "python3"
  },
  "language_info": {
   "codemirror_mode": {
    "name": "ipython",
    "version": 3
   },
   "file_extension": ".py",
   "mimetype": "text/x-python",
   "name": "python",
   "nbconvert_exporter": "python",
   "pygments_lexer": "ipython3",
   "version": "3.9.13"
  }
 },
 "nbformat": 4,
 "nbformat_minor": 5
}
